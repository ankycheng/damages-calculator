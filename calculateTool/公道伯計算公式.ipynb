{
 "cells": [
  {
   "cell_type": "markdown",
   "metadata": {},
   "source": [
    "# 車現值計算"
   ]
  },
  {
   "cell_type": "code",
   "execution_count": 9,
   "metadata": {},
   "outputs": [],
   "source": [
    "def Depreciation_rate(car,new,old,use_year):#car='汽車種類'、new='新品價值','old'=最終殘值,'已使用年'\n",
    "    if car=='機車':\n",
    "        date=2\n",
    "    elif car=='非營業用汽車':\n",
    "        date=5\n",
    "    else:\n",
    "        date=4\n",
    "    d=[]\n",
    "    Depreciation_rate=1-((old/new)**(1/date))\n",
    "\n",
    "    return round(Depreciation_rate*100,2)\n",
    "\n",
    "\n",
    "def Present_value(car,new,old,use_year):#car='汽車種類'、new='新品價值','old'=最終殘值,'已使用年'\n",
    "    if car=='機車':\n",
    "        date=2\n",
    "    elif car=='非營業用汽車':\n",
    "        date=5\n",
    "    else:\n",
    "        date=4\n",
    "    d=[]\n",
    "    Depreciation_rate=1-((old/new)**(1/date))\n",
    "    for i in range(3):\n",
    "        new=new*(1-Depreciation_rate)\n",
    "        d.append(new)\n",
    "    if use_year>=date:\n",
    "        result=d[-1]\n",
    "    else:\n",
    "        result=d[use_year-1]\n",
    "    return round(result)"
   ]
  },
  {
   "cell_type": "code",
   "execution_count": 11,
   "metadata": {},
   "outputs": [
    {
     "data": {
      "text/plain": [
       "16818"
      ]
     },
     "execution_count": 11,
     "metadata": {},
     "output_type": "execute_result"
    }
   ],
   "source": [
    "car=Present_value('營業用汽車',80000,10000,3)\n",
    "car"
   ]
  },
  {
   "cell_type": "markdown",
   "metadata": {},
   "source": [
    "# 不能工作之損失"
   ]
  },
  {
   "cell_type": "code",
   "execution_count": 78,
   "metadata": {},
   "outputs": [
    {
     "data": {
      "text/plain": [
       "6667"
      ]
     },
     "execution_count": 78,
     "metadata": {},
     "output_type": "execute_result"
    }
   ],
   "source": [
    "#(每月淨收入/該月日數)*日期\n",
    "def revnue_loss(month_revnue,month_date,date):#month_revnue='每月收入',month_date='當月天數',date='不能工作天數'\n",
    "    return round(month_revnue/month_date*date)\n",
    "\n",
    "revnue_loss(50000,30,4)\n"
   ]
  },
  {
   "cell_type": "markdown",
   "metadata": {},
   "source": [
    "# 失能給付"
   ]
  },
  {
   "cell_type": "code",
   "execution_count": 2,
   "metadata": {},
   "outputs": [
    {
     "data": {
      "text/plain": [
       "51196800"
      ]
     },
     "execution_count": 2,
     "metadata": {},
     "output_type": "execute_result"
    }
   ],
   "source": [
    "#失能等級共分為十五等級，各等級之給付標準，按平均日投保薪資，依下列規定日數計算之：\n",
    "def ability_loss_rate(loss_level):\n",
    "   #loss_level='失能等級',insurance_revnue_daily='平均日投保薪資',now_age='現在年齡',retire_age='退休年齡'\n",
    "\n",
    "    if loss_level==1:\n",
    "        date=1200\n",
    "    elif loss_level==2:\n",
    "        date=1000\n",
    "    elif loss_level==3:\n",
    "        date=840\n",
    "    elif loss_level==4:\n",
    "        date=740\n",
    "    elif loss_level==5:\n",
    "        date=640\n",
    "    elif loss_level==6:\n",
    "        date=540\n",
    "    elif loss_level==7:\n",
    "        date=440\n",
    "    elif loss_level==8:\n",
    "        date=360\n",
    "    elif loss_level==9:\n",
    "        date=280\n",
    "    elif loss_level==10:\n",
    "        date=220\n",
    "    elif loss_level==11:\n",
    "        date=160\n",
    "    elif loss_level==12:\n",
    "        date=100\n",
    "    elif loss_level==13:\n",
    "        date=60\n",
    "    elif loss_level==14:\n",
    "        date=40\n",
    "    else:\n",
    "        date=30\n",
    "        \n",
    "    loss_rate=date/1200\n",
    "    \n",
    "    return round(loss_rate*100,2)\n",
    "\n",
    "def ability_loss_num(loss_level,month_revnue,now_age,retire_age=65):\n",
    "   #loss_level='失能等級',insurance_revnue_daily='平均日投保薪資',now_age='現在年齡',retire_age='退休年齡'\n",
    "    return round(ability_loss_rate(loss_level)*month_revnue*(retire_age-now_age))\n",
    "\n",
    "ability_loss_num(5,32000,35)"
   ]
  },
  {
   "cell_type": "markdown",
   "metadata": {},
   "source": [
    "# 小孩扶養給付\n",
    "\n",
    "平均每人月消費支出 - 行政院主計總處:\n",
    "\n",
    "https://win.dgbas.gov.tw/fies/doc/4.xls"
   ]
  },
  {
   "cell_type": "code",
   "execution_count": 96,
   "metadata": {},
   "outputs": [
    {
     "data": {
      "text/plain": [
       "933642"
      ]
     },
     "execution_count": 96,
     "metadata": {},
     "output_type": "execute_result"
    }
   ],
   "source": [
    "# 扶養費用/扶養人數*(20-現在年齡)*12*霍夫曼\n",
    "\n",
    "def care_fare_child(location,child_age,bank_rate=0.05):#location='戶籍地',child_age='小孩年紀',bank_rate=利率標準\n",
    "    if location=='新北市':\n",
    "        fare=22136\n",
    "    elif location=='臺北市':\n",
    "        fare=29245\n",
    "    elif location=='桃園市':\n",
    "        fare=21684\n",
    "    elif location=='臺中市':\n",
    "        fare=23125\n",
    "    elif location=='臺南市':\n",
    "        fare=19142\n",
    "    elif location=='高雄市':\n",
    "        fare=21597  \n",
    "    elif location=='宜蘭縣':\n",
    "        fare=21941\n",
    "    elif location=='新竹縣':\n",
    "        fare=24864\n",
    "    elif location=='苗栗縣':\n",
    "        fare=17681\n",
    "    elif location=='彰化縣':\n",
    "        fare=15844\n",
    "    elif location=='南投縣':\n",
    "        fare=17409 \n",
    "    elif location=='雲林縣':\n",
    "        fare=17061\n",
    "    elif location=='嘉義縣':\n",
    "        fare=18667\n",
    "    elif location=='屏東縣':\n",
    "        fare=18891\n",
    "    elif location=='花蓮縣':\n",
    "        fare=19699\n",
    "    elif location=='澎湖縣':\n",
    "        fare=17138\n",
    "    elif location=='基隆市':\n",
    "        fare=22826 \n",
    "    elif location=='新竹市':\n",
    "        fare=27293\n",
    "    elif location=='嘉義市':\n",
    "        fare=20730\n",
    "    else:\n",
    "        fare=22032\n",
    "    \n",
    "    age_cal=20-child_age\n",
    "    hoffman_fare=0\n",
    "    for i in range(age_cal):\n",
    "        hoffman_fare+=fare*12/(1+bank_rate*(i))\n",
    "        \n",
    "    return round(hoffman_fare)\n",
    "         \n",
    "care_fare_child('臺北市',12,bank_rate=1.05)"
   ]
  },
  {
   "cell_type": "markdown",
   "metadata": {},
   "source": [
    "# 老人扶養給付"
   ]
  },
  {
   "cell_type": "code",
   "execution_count": 95,
   "metadata": {},
   "outputs": [
    {
     "data": {
      "text/plain": [
       "4589218"
      ]
     },
     "execution_count": 95,
     "metadata": {},
     "output_type": "execute_result"
    }
   ],
   "source": [
    "# 扶養費用/扶養人數*(20-現在年齡)*12*霍夫曼\n",
    "#無工作能力&不能維持生活\n",
    "#location='戶籍地',sexual=性別,old_age='老人年紀',bank_rate=利率標準\n",
    "\n",
    "def care_fare_old(location,sexual,old_age,bank_rate=0.05):\n",
    "    \n",
    "\n",
    "    if location=='新北市':\n",
    "        fare=22136\n",
    "    elif location=='臺北市':\n",
    "        fare=29245\n",
    "    elif location=='桃園市':\n",
    "        fare=21684\n",
    "    elif location=='臺中市':\n",
    "        fare=23125\n",
    "    elif location=='臺南市':\n",
    "        fare=19142\n",
    "    elif location=='高雄市':\n",
    "        fare=21597  \n",
    "    elif location=='宜蘭縣':\n",
    "        fare=21941\n",
    "    elif location=='新竹縣':\n",
    "        fare=24864\n",
    "    elif location=='苗栗縣':\n",
    "        fare=17681\n",
    "    elif location=='彰化縣':\n",
    "        fare=15844\n",
    "    elif location=='南投縣':\n",
    "        fare=17409 \n",
    "    elif location=='雲林縣':\n",
    "        fare=17061\n",
    "    elif location=='嘉義縣':\n",
    "        fare=18667\n",
    "    elif location=='屏東縣':\n",
    "        fare=18891\n",
    "    elif location=='花蓮縣':\n",
    "        fare=19699\n",
    "    elif location=='澎湖縣':\n",
    "        fare=17138\n",
    "    elif location=='基隆市':\n",
    "        fare=22826 \n",
    "    elif location=='新竹市':\n",
    "        fare=27293\n",
    "    elif location=='嘉義市':\n",
    "        fare=20730\n",
    "    else:\n",
    "        fare=22032\n",
    "        \n",
    "    if sexual=='男':\n",
    "        old_mean=77.27\n",
    "    else:\n",
    "        old_mean=83.68\n",
    "    \n",
    "    age_cal=old_mean-old_age\n",
    "    \n",
    "    if age_cal>0:#要大於平均餘命才能計算\n",
    "        hoffman_fare=0\n",
    "        for i in range(int(age_cal)):\n",
    "            hoffman_fare+=fare*12/(1+bank_rate*(i))\n",
    "    else:\n",
    "        hoffman_fare=0\n",
    "        \n",
    "    return round(hoffman_fare)\n",
    "    \n",
    "         \n",
    "care_fare_old('臺北市','女',65,bank_rate=0.05)"
   ]
  },
  {
   "cell_type": "code",
   "execution_count": null,
   "metadata": {},
   "outputs": [],
   "source": []
  }
 ],
 "metadata": {
  "kernelspec": {
   "display_name": "Python 3",
   "language": "python",
   "name": "python3"
  },
  "language_info": {
   "codemirror_mode": {
    "name": "ipython",
    "version": 3
   },
   "file_extension": ".py",
   "mimetype": "text/x-python",
   "name": "python",
   "nbconvert_exporter": "python",
   "pygments_lexer": "ipython3",
   "version": "3.6.8"
  }
 },
 "nbformat": 4,
 "nbformat_minor": 2
}
