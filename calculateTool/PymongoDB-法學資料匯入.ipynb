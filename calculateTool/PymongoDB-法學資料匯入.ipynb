{
 "cells": [
  {
   "cell_type": "markdown",
   "metadata": {},
   "source": [
    "# 資料庫開啟作業\n",
    "\n",
    "## 安裝mongodb：\n",
    "\n",
    "https://docs.mongodb.com/guides/server/install/\n",
    "\n",
    "## 開啟shell\n",
    "\n",
    "輸入：mongo\n",
    "\n",
    "## API:\n",
    "\n",
    "http://api.mongodb.com/python/current/tutorial.html\n",
    "\n",
    "## Mongo DB shell command:\n",
    "\n",
    "https://docs.mongodb.com/manual/reference/method/\n",
    "\n",
    "## 匯入匯出\n",
    "\n",
    "http://dog0416.blogspot.com/2015/09/databasemongodb-backup-restore-import.html"
   ]
  },
  {
   "cell_type": "markdown",
   "metadata": {},
   "source": [
    "# 引入模組"
   ]
  },
  {
   "cell_type": "code",
   "execution_count": null,
   "metadata": {},
   "outputs": [],
   "source": [
    "import legaltechDataProcess as ltp\n",
    "import json\n",
    "import pymongo\n",
    "from pymongo import MongoClient\n",
    "import pandas as pd\n",
    "import os"
   ]
  },
  {
   "cell_type": "markdown",
   "metadata": {},
   "source": [
    "# 初始化建立資料庫"
   ]
  },
  {
   "cell_type": "code",
   "execution_count": null,
   "metadata": {},
   "outputs": [],
   "source": [
    "##local\n",
    "collection=ltp.enterLocalMD(\"judgement_database\" ,\"judgement\")\n",
    "collection2=ltp.enterLocalMD(\"judgement_database\" ,\"SolatiumOrAccident\")"
   ]
  },
  {
   "cell_type": "markdown",
   "metadata": {},
   "source": [
    "# Json原始檔案處理\n",
    "\n",
    "## Local"
   ]
  },
  {
   "cell_type": "code",
   "execution_count": null,
   "metadata": {},
   "outputs": [],
   "source": [
    "#原始檔\n",
    "file_path=\"/Users/benbilly3/Desktop/法學資料判決集/智慧財產法院/民事_98,民商上易,4_2009-06-10.json\"\n",
    "content = open(file_path,encoding=\"utf-8\").read()#讀檔\n",
    "d=json.loads(content,encoding=\"utf-8\")#load json\n",
    "d"
   ]
  },
  {
   "cell_type": "markdown",
   "metadata": {},
   "source": [
    "# 匯入DB"
   ]
  },
  {
   "cell_type": "code",
   "execution_count": null,
   "metadata": {},
   "outputs": [],
   "source": [
    "#全集\n",
    "mypath=\"/Users/benbilly3/Desktop/法學資料判決集\"\n",
    "files_name=os.listdir(mypath)\n",
    "files_name.remove('.DS_Store')\n",
    "dirs_list=[mypath+\"/\"+i for i in files_name]#法院資料夾路徑\n",
    "dirs_list[:]"
   ]
  },
  {
   "cell_type": "code",
   "execution_count": null,
   "metadata": {},
   "outputs": [],
   "source": [
    "#匯入工具\n",
    "# ltp.jdImport(dirs_list[:],collection)"
   ]
  },
  {
   "cell_type": "markdown",
   "metadata": {},
   "source": [
    "# local端DB篩選資料，並存為json陣列"
   ]
  },
  {
   "cell_type": "code",
   "execution_count": null,
   "metadata": {},
   "outputs": [],
   "source": [
    "#快\n",
    "# df=ltp.mdGeneralFilter(collection,reason=\"損害賠償\")#reason=\"損害賠償\",sys=\"民事\"\n",
    "# dfx=ltp.pdColFilter(df,\"judgement\",\"慰撫金\",\"事故\",\"車禍\")#\"judgement\",\"事故\",\"車禍\"\n",
    "# dft=dfx.iloc[:,1:]\n",
    "# dft.to_json(\"/Users/benbilly3/Desktop/法學資料判決集/車禍損害賠償/慰撫金車禍事故\"+\"all\"+\".json\",orient='records')\n",
    "ltp.jdImport2(dirs_list[0:1],collection2)#第一個變數為json檔存放資料夾位置\n"
   ]
  },
  {
   "cell_type": "markdown",
   "metadata": {},
   "source": [
    "# 查找資料\n",
    "\n",
    "Mongodb運算子：\n",
    "\n",
    "https://www.itread01.com/content/1545628506.html\n",
    "\n",
    "法條查詢處理：query-array-of-documents\n",
    "\n",
    "https://docs.mongodb.com/manual/tutorial/query-array-of-documents/"
   ]
  },
  {
   "cell_type": "code",
   "execution_count": null,
   "metadata": {},
   "outputs": [],
   "source": [
    "z=ltp.mdIncludeFilter(collection,\"reason\",\"損害賠償\",\"侵權行為損害賠償\")\n",
    "df=z.astype(str)\n",
    "dfx=ltp.pdColFilter(df,\"judgement\",\"慰撫金\",\"事故\",\"車禍\")#\"judgement\",\"事故\",\"車禍\"\n",
    "dft=dfx.iloc[:,1:]\n",
    "dft.to_json(\"/Users/benbilly3/Desktop/法學資料判決集/車禍損害賠償/(侵權行為損害賠償&損害賠償)&(慰撫金or車禍or事故).json\",orient='records')\n",
    "\n"
   ]
  },
  {
   "cell_type": "markdown",
   "metadata": {},
   "source": [
    "# 切分檔案"
   ]
  },
  {
   "cell_type": "code",
   "execution_count": null,
   "metadata": {},
   "outputs": [],
   "source": [
    "#切分檔案\n",
    "a=ltp.mdGeneralFilter(collection,court=\"臺灣臺北地方法院\")\n",
    "# a.iloc[:,1:].to_pickle(\"/Users/benbilly3/Desktop/法學資料判決集/車禍損害賠償/solatium_accident.pickle\")\n",
    "i=[i for i in range(0,len(a)+50000,50000)]\n",
    "j=i[1:]\n",
    "for n1,n2 in zip(i,j):\n",
    "    print(n1,n2)\n",
    "    df=a.iloc[n1:n2,1:]\n",
    "    df.to_json(\"/Users/benbilly3/Desktop/法學資料判決集/臺灣臺北地方法院\"+str(n2)+\".json\",orient='records')"
   ]
  },
  {
   "cell_type": "markdown",
   "metadata": {},
   "source": [
    "# Cursor用法\n",
    "\n",
    "limit():找前幾筆\n",
    "\n",
    "skip():忽略前幾筆\n",
    "\n",
    "sort():排序，如sort({x:1})\n",
    "\n",
    "explain:搜尋統計\n"
   ]
  },
  {
   "cell_type": "code",
   "execution_count": null,
   "metadata": {
    "scrolled": true
   },
   "outputs": [],
   "source": [
    "#Returns an explain plan record for this cursor.\n",
    "db.judgement.find()[1:50].explain()"
   ]
  },
  {
   "cell_type": "markdown",
   "metadata": {},
   "source": [
    "# 查詢collection列數"
   ]
  },
  {
   "cell_type": "code",
   "execution_count": null,
   "metadata": {},
   "outputs": [],
   "source": [
    "# collection.count_documents({'court': \"臺灣臺北地方法院\"})"
   ]
  },
  {
   "cell_type": "markdown",
   "metadata": {},
   "source": [
    "# 刪除collection"
   ]
  },
  {
   "cell_type": "code",
   "execution_count": null,
   "metadata": {},
   "outputs": [],
   "source": [
    "collection2.drop()# 或是 db.drop_collection(\"foo\")\n",
    "# collection.delete_many({'court': \"臺灣臺北地方法院\"})"
   ]
  },
  {
   "cell_type": "code",
   "execution_count": null,
   "metadata": {},
   "outputs": [],
   "source": []
  }
 ],
 "metadata": {
  "kernelspec": {
   "display_name": "Python 3",
   "language": "python",
   "name": "python3"
  },
  "language_info": {
   "codemirror_mode": {
    "name": "ipython",
    "version": 3
   },
   "file_extension": ".py",
   "mimetype": "text/x-python",
   "name": "python",
   "nbconvert_exporter": "python",
   "pygments_lexer": "ipython3",
   "version": "3.6.8"
  }
 },
 "nbformat": 4,
 "nbformat_minor": 2
}
